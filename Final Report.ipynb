{
  "metadata": {
    "kernelspec": {
      "name": "python",
      "display_name": "Python (Pyodide)",
      "language": "python"
    },
    "language_info": {
      "codemirror_mode": {
        "name": "python",
        "version": 3
      },
      "file_extension": ".py",
      "mimetype": "text/x-python",
      "name": "python",
      "nbconvert_exporter": "python",
      "pygments_lexer": "ipython3",
      "version": "3.8"
    }
  },
  "nbformat_minor": 5,
  "nbformat": 4,
  "cells": [
    {
      "cell_type": "markdown",
      "source": "# Vancouver Police Department Crime Data Analysis - Final Report \n\n### Final Report\n\n",
      "metadata": {},
      "id": "6ea8190b-f610-415e-805c-4db1aae2179c"
    },
    {
      "cell_type": "code",
      "source": "library(cowplot)\nlibrary(infer)\nlibrary(repr)\nlibrary(tidyverse)\nlibrary(broom)\nlibrary(reshape2)\nlibrary(patchwork)",
      "metadata": {},
      "execution_count": 1,
      "outputs": [
        {
          "name": "stderr",
          "output_type": "stream",
          "text": "── \u001b[1mAttaching core tidyverse packages\u001b[22m ────────────────────────────────────────────────────────────────────────────────── tidyverse 2.0.0 ──\n\n\u001b[32m✔\u001b[39m \u001b[34mdplyr    \u001b[39m 1.1.0     \u001b[32m✔\u001b[39m \u001b[34mreadr    \u001b[39m 2.1.4\n\n\u001b[32m✔\u001b[39m \u001b[34mforcats  \u001b[39m 1.0.0     \u001b[32m✔\u001b[39m \u001b[34mstringr  \u001b[39m 1.5.0\n\n\u001b[32m✔\u001b[39m \u001b[34mggplot2  \u001b[39m 3.4.1     \u001b[32m✔\u001b[39m \u001b[34mtibble   \u001b[39m 3.2.0\n\n\u001b[32m✔\u001b[39m \u001b[34mlubridate\u001b[39m 1.9.2     \u001b[32m✔\u001b[39m \u001b[34mtidyr    \u001b[39m 1.3.0\n\n\u001b[32m✔\u001b[39m \u001b[34mpurrr    \u001b[39m 1.0.1     \n\n── \u001b[1mConflicts\u001b[22m ──────────────────────────────────────────────────────────────────────────────────────────────────── tidyverse_conflicts() ──\n\n\u001b[31m✖\u001b[39m \u001b[34mdplyr\u001b[39m::\u001b[32mfilter()\u001b[39m    masks \u001b[34mstats\u001b[39m::filter()\n\n\u001b[31m✖\u001b[39m \u001b[34mdplyr\u001b[39m::\u001b[32mlag()\u001b[39m       masks \u001b[34mstats\u001b[39m::lag()\n\n\u001b[31m✖\u001b[39m \u001b[34mlubridate\u001b[39m::\u001b[32mstamp()\u001b[39m masks \u001b[34mcowplot\u001b[39m::stamp()\n\n\u001b[36mℹ\u001b[39m Use the conflicted package (\u001b[3m\u001b[34m<http://conflicted.r-lib.org/>\u001b[39m\u001b[23m) to force all conflicts to become errors\n\n\n\nAttaching package: 'reshape2'\n\n\n\n\n\nThe following object is masked from 'package:tidyr':\n\n\n\n    smiths\n\n\n\n\n\n\n\nAttaching package: 'patchwork'\n\n\n\n\n\nThe following object is masked from 'package:cowplot':\n\n\n\n    align_plots\n\n\n\n\n"
        }
      ],
      "id": "76329a91-61bd-40fb-b642-c8e498257807"
    },
    {
      "cell_type": "markdown",
      "source": "## Introduction\n\nThe COVID-19 pandemic has lead to significant reductions in income, increased unemployment, and disruptions in service and manufacturing industries (Song and Zhou, 2020).\n\nOn the other hand, COVID has also hugely impacted the crime rate (Abrams, 2020). In order to investigate how COVID affected the crime rate in Vancouver in particular, we will conduct a comprehensive inference analysis on the difference in criminal activity across 2 years (before and after COVID).\n\nUsing the crime database collected by the Vancouver Police Department (VPD), the main question of my analysis is: ***Is there a difference in the proportion of theft crimes between the year before COVID and the year after COVID?***\n\nDenny Thomas and Aishwarya Nair from Reuters reported that Canada's first COVID carrier arrived in Toronto on January 22, 2020. Although the virus broke out in China in 2019, North America, including Canada, remained unaffected until this point. According to a news release by the BC government, a provincial state of emergency was declared due to the COVID-19 pandemic, indicating the severity of the situation. However, in 2020, BC began to experience the impact of COVID, with measures such as lockdowns and border closures being implemented. 2020 saw some of the harshest lockdown periods during the pandemic, and life began adjusting to the pandemic starting in 2021, so we will focus on only the comparison between 2019, the year before the pandemic, and 2020, the first year of the pandemic.",
      "metadata": {
        "jp-MarkdownHeadingCollapsed": true,
        "tags": []
      },
      "id": "5001c52d-b740-43ca-9bd7-6eb4f4be611a"
    },
    {
      "cell_type": "markdown",
      "source": "## Methods and Results",
      "metadata": {
        "tags": []
      },
      "id": "0e3fb041-8507-47c8-83cf-b621531f300b"
    },
    {
      "cell_type": "markdown",
      "source": "Here's an overview of my dataset:\n\nThe VPD dataset contains 48160 observations in 2019, and 37520 observations in 2020. Each observation in the dataset by VPD contains 10 variables which describe the type, time and location of each crime. The TYPE column includes multiple categories of crime but my main focus will be theft crime in general. The 'Other Theft' category includes a range of property related incidents such as shoplifting, theft of personal property (over / under $5000), mail theft, and utilities theft.",
      "metadata": {},
      "id": "f1efdbd4-2ed8-4206-9477-3cd7da0bea00"
    },
    {
      "cell_type": "code",
      "source": "# You can download the zip file from the website, unzip and upload onto jupyter in the data folder\ncrime_data <- read_csv(\"https://raw.githubusercontent.com/HarlH/stat-201-project/main/data/crimedata_csv_AllNeighbourhoods_AllYears.csv\")\nhead(crime_data)",
      "metadata": {},
      "execution_count": 2,
      "outputs": [
        {
          "name": "stderr",
          "output_type": "stream",
          "text": "\u001b[1mRows: \u001b[22m\u001b[34m853944\u001b[39m \u001b[1mColumns: \u001b[22m\u001b[34m10\u001b[39m\n\n\u001b[36m──\u001b[39m \u001b[1mColumn specification\u001b[22m \u001b[36m──────────────────────────────────────────────────────────────────────────────────────────────────────────────────\u001b[39m\n\n\u001b[1mDelimiter:\u001b[22m \",\"\n\n\u001b[31mchr\u001b[39m (3): TYPE, HUNDRED_BLOCK, NEIGHBOURHOOD\n\n\u001b[32mdbl\u001b[39m (7): YEAR, MONTH, DAY, HOUR, MINUTE, X, Y\n\n\n\n\u001b[36mℹ\u001b[39m Use `spec()` to retrieve the full column specification for this data.\n\n\u001b[36mℹ\u001b[39m Specify the column types or set `show_col_types = FALSE` to quiet this message.\n"
        },
        {
          "output_type": "display_data",
          "data": {
            "text/html": [
              "<table class=\"dataframe\">\n",
              "<caption>A tibble: 6 × 10</caption>\n",
              "<thead>\n",
              "\t<tr><th scope=col>TYPE</th><th scope=col>YEAR</th><th scope=col>MONTH</th><th scope=col>DAY</th><th scope=col>HOUR</th><th scope=col>MINUTE</th><th scope=col>HUNDRED_BLOCK</th><th scope=col>NEIGHBOURHOOD</th><th scope=col>X</th><th scope=col>Y</th></tr>\n",
              "\t<tr><th scope=col>&lt;chr&gt;</th><th scope=col>&lt;dbl&gt;</th><th scope=col>&lt;dbl&gt;</th><th scope=col>&lt;dbl&gt;</th><th scope=col>&lt;dbl&gt;</th><th scope=col>&lt;dbl&gt;</th><th scope=col>&lt;chr&gt;</th><th scope=col>&lt;chr&gt;</th><th scope=col>&lt;dbl&gt;</th><th scope=col>&lt;dbl&gt;</th></tr>\n",
              "</thead>\n",
              "<tbody>\n",
              "\t<tr><td>Break and Enter Commercial</td><td>2012</td><td>12</td><td>14</td><td> 8</td><td>52</td><td>NA             </td><td>Oakridge</td><td>491285.0</td><td>5453433</td></tr>\n",
              "\t<tr><td>Break and Enter Commercial</td><td>2019</td><td> 3</td><td> 7</td><td> 2</td><td> 6</td><td>10XX SITKA SQ  </td><td>Fairview</td><td>490613.0</td><td>5457110</td></tr>\n",
              "\t<tr><td>Break and Enter Commercial</td><td>2019</td><td> 8</td><td>27</td><td> 4</td><td>12</td><td>10XX ALBERNI ST</td><td>West End</td><td>491007.8</td><td>5459174</td></tr>\n",
              "\t<tr><td>Break and Enter Commercial</td><td>2021</td><td> 4</td><td>26</td><td> 4</td><td>44</td><td>10XX ALBERNI ST</td><td>West End</td><td>491007.8</td><td>5459174</td></tr>\n",
              "\t<tr><td>Break and Enter Commercial</td><td>2014</td><td> 8</td><td> 8</td><td> 5</td><td>13</td><td>10XX ALBERNI ST</td><td>West End</td><td>491015.9</td><td>5459166</td></tr>\n",
              "\t<tr><td>Break and Enter Commercial</td><td>2020</td><td> 7</td><td>28</td><td>19</td><td>12</td><td>10XX ALBERNI ST</td><td>West End</td><td>491015.9</td><td>5459166</td></tr>\n",
              "</tbody>\n",
              "</table>\n"
            ],
            "text/latex": [
              "A tibble: 6 × 10\n",
              "\\begin{tabular}{llllllllll}\n",
              " TYPE & YEAR & MONTH & DAY & HOUR & MINUTE & HUNDRED\\_BLOCK & NEIGHBOURHOOD & X & Y\\\\\n",
              " <chr> & <dbl> & <dbl> & <dbl> & <dbl> & <dbl> & <chr> & <chr> & <dbl> & <dbl>\\\\\n",
              "\\hline\n",
              "\t Break and Enter Commercial & 2012 & 12 & 14 &  8 & 52 & NA              & Oakridge & 491285.0 & 5453433\\\\\n",
              "\t Break and Enter Commercial & 2019 &  3 &  7 &  2 &  6 & 10XX SITKA SQ   & Fairview & 490613.0 & 5457110\\\\\n",
              "\t Break and Enter Commercial & 2019 &  8 & 27 &  4 & 12 & 10XX ALBERNI ST & West End & 491007.8 & 5459174\\\\\n",
              "\t Break and Enter Commercial & 2021 &  4 & 26 &  4 & 44 & 10XX ALBERNI ST & West End & 491007.8 & 5459174\\\\\n",
              "\t Break and Enter Commercial & 2014 &  8 &  8 &  5 & 13 & 10XX ALBERNI ST & West End & 491015.9 & 5459166\\\\\n",
              "\t Break and Enter Commercial & 2020 &  7 & 28 & 19 & 12 & 10XX ALBERNI ST & West End & 491015.9 & 5459166\\\\\n",
              "\\end{tabular}\n"
            ],
            "text/markdown": [
              "\n",
              "A tibble: 6 × 10\n",
              "\n",
              "| TYPE &lt;chr&gt; | YEAR &lt;dbl&gt; | MONTH &lt;dbl&gt; | DAY &lt;dbl&gt; | HOUR &lt;dbl&gt; | MINUTE &lt;dbl&gt; | HUNDRED_BLOCK &lt;chr&gt; | NEIGHBOURHOOD &lt;chr&gt; | X &lt;dbl&gt; | Y &lt;dbl&gt; |\n",
              "|---|---|---|---|---|---|---|---|---|---|\n",
              "| Break and Enter Commercial | 2012 | 12 | 14 |  8 | 52 | NA              | Oakridge | 491285.0 | 5453433 |\n",
              "| Break and Enter Commercial | 2019 |  3 |  7 |  2 |  6 | 10XX SITKA SQ   | Fairview | 490613.0 | 5457110 |\n",
              "| Break and Enter Commercial | 2019 |  8 | 27 |  4 | 12 | 10XX ALBERNI ST | West End | 491007.8 | 5459174 |\n",
              "| Break and Enter Commercial | 2021 |  4 | 26 |  4 | 44 | 10XX ALBERNI ST | West End | 491007.8 | 5459174 |\n",
              "| Break and Enter Commercial | 2014 |  8 |  8 |  5 | 13 | 10XX ALBERNI ST | West End | 491015.9 | 5459166 |\n",
              "| Break and Enter Commercial | 2020 |  7 | 28 | 19 | 12 | 10XX ALBERNI ST | West End | 491015.9 | 5459166 |\n",
              "\n"
            ],
            "text/plain": [
              "  TYPE                       YEAR MONTH DAY HOUR MINUTE HUNDRED_BLOCK  \n",
              "1 Break and Enter Commercial 2012 12    14   8   52     NA             \n",
              "2 Break and Enter Commercial 2019  3     7   2    6     10XX SITKA SQ  \n",
              "3 Break and Enter Commercial 2019  8    27   4   12     10XX ALBERNI ST\n",
              "4 Break and Enter Commercial 2021  4    26   4   44     10XX ALBERNI ST\n",
              "5 Break and Enter Commercial 2014  8     8   5   13     10XX ALBERNI ST\n",
              "6 Break and Enter Commercial 2020  7    28  19   12     10XX ALBERNI ST\n",
              "  NEIGHBOURHOOD X        Y      \n",
              "1 Oakridge      491285.0 5453433\n",
              "2 Fairview      490613.0 5457110\n",
              "3 West End      491007.8 5459174\n",
              "4 West End      491007.8 5459174\n",
              "5 West End      491015.9 5459166\n",
              "6 West End      491015.9 5459166"
            ]
          },
          "metadata": {}
        }
      ],
      "id": "e877d27c-6206-487e-a794-01e19aff6f9e"
    },
    {
      "cell_type": "markdown",
      "source": "Table 1. Table of raw crime data\n\nSince we are only focusing on the years 2019 and 2020, we will filter the data to only include those two years.\nHere is the data for year 2019.",
      "metadata": {},
      "id": "37b84ae6-6af6-4cb7-aef5-f9ae7994d82a"
    },
    {
      "cell_type": "code",
      "source": "# Crime data for year 2019\ncrime_data_before_covid <- crime_data %>%\n    filter(YEAR == 2019)\n\nhead(crime_data_before_covid)",
      "metadata": {},
      "execution_count": 3,
      "outputs": [
        {
          "output_type": "display_data",
          "data": {
            "text/html": [
              "<table class=\"dataframe\">\n",
              "<caption>A tibble: 6 × 10</caption>\n",
              "<thead>\n",
              "\t<tr><th scope=col>TYPE</th><th scope=col>YEAR</th><th scope=col>MONTH</th><th scope=col>DAY</th><th scope=col>HOUR</th><th scope=col>MINUTE</th><th scope=col>HUNDRED_BLOCK</th><th scope=col>NEIGHBOURHOOD</th><th scope=col>X</th><th scope=col>Y</th></tr>\n",
              "\t<tr><th scope=col>&lt;chr&gt;</th><th scope=col>&lt;dbl&gt;</th><th scope=col>&lt;dbl&gt;</th><th scope=col>&lt;dbl&gt;</th><th scope=col>&lt;dbl&gt;</th><th scope=col>&lt;dbl&gt;</th><th scope=col>&lt;chr&gt;</th><th scope=col>&lt;chr&gt;</th><th scope=col>&lt;dbl&gt;</th><th scope=col>&lt;dbl&gt;</th></tr>\n",
              "</thead>\n",
              "<tbody>\n",
              "\t<tr><td>Break and Enter Commercial</td><td>2019</td><td> 3</td><td> 7</td><td> 2</td><td> 6</td><td>10XX SITKA SQ  </td><td>Fairview                 </td><td>490613.0</td><td>5457110</td></tr>\n",
              "\t<tr><td>Break and Enter Commercial</td><td>2019</td><td> 8</td><td>27</td><td> 4</td><td>12</td><td>10XX ALBERNI ST</td><td>West End                 </td><td>491007.8</td><td>5459174</td></tr>\n",
              "\t<tr><td>Break and Enter Commercial</td><td>2019</td><td>12</td><td>31</td><td>23</td><td>30</td><td>10XX BEACH AVE </td><td>West End                 </td><td>490197.5</td><td>5458239</td></tr>\n",
              "\t<tr><td>Break and Enter Commercial</td><td>2019</td><td> 1</td><td> 6</td><td> 1</td><td>36</td><td>10XX BEACH AVE </td><td>West End                 </td><td>490234.4</td><td>5458201</td></tr>\n",
              "\t<tr><td>Break and Enter Commercial</td><td>2019</td><td> 6</td><td> 9</td><td>10</td><td>58</td><td>10XX BEACH AVE </td><td>West End                 </td><td>490234.4</td><td>5458201</td></tr>\n",
              "\t<tr><td>Break and Enter Commercial</td><td>2019</td><td> 6</td><td>10</td><td> 4</td><td>30</td><td>10XX BEACH AVE </td><td>Central Business District</td><td>490249.2</td><td>5458167</td></tr>\n",
              "</tbody>\n",
              "</table>\n"
            ],
            "text/latex": [
              "A tibble: 6 × 10\n",
              "\\begin{tabular}{llllllllll}\n",
              " TYPE & YEAR & MONTH & DAY & HOUR & MINUTE & HUNDRED\\_BLOCK & NEIGHBOURHOOD & X & Y\\\\\n",
              " <chr> & <dbl> & <dbl> & <dbl> & <dbl> & <dbl> & <chr> & <chr> & <dbl> & <dbl>\\\\\n",
              "\\hline\n",
              "\t Break and Enter Commercial & 2019 &  3 &  7 &  2 &  6 & 10XX SITKA SQ   & Fairview                  & 490613.0 & 5457110\\\\\n",
              "\t Break and Enter Commercial & 2019 &  8 & 27 &  4 & 12 & 10XX ALBERNI ST & West End                  & 491007.8 & 5459174\\\\\n",
              "\t Break and Enter Commercial & 2019 & 12 & 31 & 23 & 30 & 10XX BEACH AVE  & West End                  & 490197.5 & 5458239\\\\\n",
              "\t Break and Enter Commercial & 2019 &  1 &  6 &  1 & 36 & 10XX BEACH AVE  & West End                  & 490234.4 & 5458201\\\\\n",
              "\t Break and Enter Commercial & 2019 &  6 &  9 & 10 & 58 & 10XX BEACH AVE  & West End                  & 490234.4 & 5458201\\\\\n",
              "\t Break and Enter Commercial & 2019 &  6 & 10 &  4 & 30 & 10XX BEACH AVE  & Central Business District & 490249.2 & 5458167\\\\\n",
              "\\end{tabular}\n"
            ],
            "text/markdown": [
              "\n",
              "A tibble: 6 × 10\n",
              "\n",
              "| TYPE &lt;chr&gt; | YEAR &lt;dbl&gt; | MONTH &lt;dbl&gt; | DAY &lt;dbl&gt; | HOUR &lt;dbl&gt; | MINUTE &lt;dbl&gt; | HUNDRED_BLOCK &lt;chr&gt; | NEIGHBOURHOOD &lt;chr&gt; | X &lt;dbl&gt; | Y &lt;dbl&gt; |\n",
              "|---|---|---|---|---|---|---|---|---|---|\n",
              "| Break and Enter Commercial | 2019 |  3 |  7 |  2 |  6 | 10XX SITKA SQ   | Fairview                  | 490613.0 | 5457110 |\n",
              "| Break and Enter Commercial | 2019 |  8 | 27 |  4 | 12 | 10XX ALBERNI ST | West End                  | 491007.8 | 5459174 |\n",
              "| Break and Enter Commercial | 2019 | 12 | 31 | 23 | 30 | 10XX BEACH AVE  | West End                  | 490197.5 | 5458239 |\n",
              "| Break and Enter Commercial | 2019 |  1 |  6 |  1 | 36 | 10XX BEACH AVE  | West End                  | 490234.4 | 5458201 |\n",
              "| Break and Enter Commercial | 2019 |  6 |  9 | 10 | 58 | 10XX BEACH AVE  | West End                  | 490234.4 | 5458201 |\n",
              "| Break and Enter Commercial | 2019 |  6 | 10 |  4 | 30 | 10XX BEACH AVE  | Central Business District | 490249.2 | 5458167 |\n",
              "\n"
            ],
            "text/plain": [
              "  TYPE                       YEAR MONTH DAY HOUR MINUTE HUNDRED_BLOCK  \n",
              "1 Break and Enter Commercial 2019  3     7   2    6     10XX SITKA SQ  \n",
              "2 Break and Enter Commercial 2019  8    27   4   12     10XX ALBERNI ST\n",
              "3 Break and Enter Commercial 2019 12    31  23   30     10XX BEACH AVE \n",
              "4 Break and Enter Commercial 2019  1     6   1   36     10XX BEACH AVE \n",
              "5 Break and Enter Commercial 2019  6     9  10   58     10XX BEACH AVE \n",
              "6 Break and Enter Commercial 2019  6    10   4   30     10XX BEACH AVE \n",
              "  NEIGHBOURHOOD             X        Y      \n",
              "1 Fairview                  490613.0 5457110\n",
              "2 West End                  491007.8 5459174\n",
              "3 West End                  490197.5 5458239\n",
              "4 West End                  490234.4 5458201\n",
              "5 West End                  490234.4 5458201\n",
              "6 Central Business District 490249.2 5458167"
            ]
          },
          "metadata": {}
        }
      ],
      "id": "addec19e-beec-4745-ba29-9695c52c8a3e"
    },
    {
      "cell_type": "markdown",
      "source": "Table 2. Table of raw crime data in the year 2019\n\nThe second sample, from the year 2020:",
      "metadata": {},
      "id": "4026b7e6-70f4-444b-8bad-41e1d6fd85d7"
    },
    {
      "cell_type": "code",
      "source": "# Crime data for year 2020\ncrime_data_after_covid <- crime_data %>%\n    filter(YEAR == 2020)\n\nhead(crime_data_after_covid)",
      "metadata": {},
      "execution_count": 4,
      "outputs": [
        {
          "output_type": "display_data",
          "data": {
            "text/html": [
              "<table class=\"dataframe\">\n",
              "<caption>A tibble: 6 × 10</caption>\n",
              "<thead>\n",
              "\t<tr><th scope=col>TYPE</th><th scope=col>YEAR</th><th scope=col>MONTH</th><th scope=col>DAY</th><th scope=col>HOUR</th><th scope=col>MINUTE</th><th scope=col>HUNDRED_BLOCK</th><th scope=col>NEIGHBOURHOOD</th><th scope=col>X</th><th scope=col>Y</th></tr>\n",
              "\t<tr><th scope=col>&lt;chr&gt;</th><th scope=col>&lt;dbl&gt;</th><th scope=col>&lt;dbl&gt;</th><th scope=col>&lt;dbl&gt;</th><th scope=col>&lt;dbl&gt;</th><th scope=col>&lt;dbl&gt;</th><th scope=col>&lt;chr&gt;</th><th scope=col>&lt;chr&gt;</th><th scope=col>&lt;dbl&gt;</th><th scope=col>&lt;dbl&gt;</th></tr>\n",
              "</thead>\n",
              "<tbody>\n",
              "\t<tr><td>Break and Enter Commercial</td><td>2020</td><td>7</td><td>28</td><td>19</td><td>12</td><td>10XX ALBERNI ST</td><td>West End</td><td>491015.9</td><td>5459166</td></tr>\n",
              "\t<tr><td>Break and Enter Commercial</td><td>2020</td><td>6</td><td>19</td><td> 3</td><td>40</td><td>10XX ALBERNI ST</td><td>West End</td><td>491059.5</td><td>5459122</td></tr>\n",
              "\t<tr><td>Break and Enter Commercial</td><td>2020</td><td>1</td><td> 3</td><td> 6</td><td>43</td><td>10XX ALBERNI ST</td><td>West End</td><td>491068.7</td><td>5459126</td></tr>\n",
              "\t<tr><td>Break and Enter Commercial</td><td>2020</td><td>9</td><td>27</td><td>20</td><td> 0</td><td>10XX ALBERNI ST</td><td>West End</td><td>491073.1</td><td>5459109</td></tr>\n",
              "\t<tr><td>Break and Enter Commercial</td><td>2020</td><td>6</td><td>28</td><td> 6</td><td>50</td><td>10XX ALBERNI ST</td><td>West End</td><td>491102.2</td><td>5459092</td></tr>\n",
              "\t<tr><td>Break and Enter Commercial</td><td>2020</td><td>2</td><td> 5</td><td> 0</td><td> 0</td><td>10XX BEACH AVE </td><td>West End</td><td>490227.2</td><td>5458210</td></tr>\n",
              "</tbody>\n",
              "</table>\n"
            ],
            "text/latex": [
              "A tibble: 6 × 10\n",
              "\\begin{tabular}{llllllllll}\n",
              " TYPE & YEAR & MONTH & DAY & HOUR & MINUTE & HUNDRED\\_BLOCK & NEIGHBOURHOOD & X & Y\\\\\n",
              " <chr> & <dbl> & <dbl> & <dbl> & <dbl> & <dbl> & <chr> & <chr> & <dbl> & <dbl>\\\\\n",
              "\\hline\n",
              "\t Break and Enter Commercial & 2020 & 7 & 28 & 19 & 12 & 10XX ALBERNI ST & West End & 491015.9 & 5459166\\\\\n",
              "\t Break and Enter Commercial & 2020 & 6 & 19 &  3 & 40 & 10XX ALBERNI ST & West End & 491059.5 & 5459122\\\\\n",
              "\t Break and Enter Commercial & 2020 & 1 &  3 &  6 & 43 & 10XX ALBERNI ST & West End & 491068.7 & 5459126\\\\\n",
              "\t Break and Enter Commercial & 2020 & 9 & 27 & 20 &  0 & 10XX ALBERNI ST & West End & 491073.1 & 5459109\\\\\n",
              "\t Break and Enter Commercial & 2020 & 6 & 28 &  6 & 50 & 10XX ALBERNI ST & West End & 491102.2 & 5459092\\\\\n",
              "\t Break and Enter Commercial & 2020 & 2 &  5 &  0 &  0 & 10XX BEACH AVE  & West End & 490227.2 & 5458210\\\\\n",
              "\\end{tabular}\n"
            ],
            "text/markdown": [
              "\n",
              "A tibble: 6 × 10\n",
              "\n",
              "| TYPE &lt;chr&gt; | YEAR &lt;dbl&gt; | MONTH &lt;dbl&gt; | DAY &lt;dbl&gt; | HOUR &lt;dbl&gt; | MINUTE &lt;dbl&gt; | HUNDRED_BLOCK &lt;chr&gt; | NEIGHBOURHOOD &lt;chr&gt; | X &lt;dbl&gt; | Y &lt;dbl&gt; |\n",
              "|---|---|---|---|---|---|---|---|---|---|\n",
              "| Break and Enter Commercial | 2020 | 7 | 28 | 19 | 12 | 10XX ALBERNI ST | West End | 491015.9 | 5459166 |\n",
              "| Break and Enter Commercial | 2020 | 6 | 19 |  3 | 40 | 10XX ALBERNI ST | West End | 491059.5 | 5459122 |\n",
              "| Break and Enter Commercial | 2020 | 1 |  3 |  6 | 43 | 10XX ALBERNI ST | West End | 491068.7 | 5459126 |\n",
              "| Break and Enter Commercial | 2020 | 9 | 27 | 20 |  0 | 10XX ALBERNI ST | West End | 491073.1 | 5459109 |\n",
              "| Break and Enter Commercial | 2020 | 6 | 28 |  6 | 50 | 10XX ALBERNI ST | West End | 491102.2 | 5459092 |\n",
              "| Break and Enter Commercial | 2020 | 2 |  5 |  0 |  0 | 10XX BEACH AVE  | West End | 490227.2 | 5458210 |\n",
              "\n"
            ],
            "text/plain": [
              "  TYPE                       YEAR MONTH DAY HOUR MINUTE HUNDRED_BLOCK  \n",
              "1 Break and Enter Commercial 2020 7     28  19   12     10XX ALBERNI ST\n",
              "2 Break and Enter Commercial 2020 6     19   3   40     10XX ALBERNI ST\n",
              "3 Break and Enter Commercial 2020 1      3   6   43     10XX ALBERNI ST\n",
              "4 Break and Enter Commercial 2020 9     27  20    0     10XX ALBERNI ST\n",
              "5 Break and Enter Commercial 2020 6     28   6   50     10XX ALBERNI ST\n",
              "6 Break and Enter Commercial 2020 2      5   0    0     10XX BEACH AVE \n",
              "  NEIGHBOURHOOD X        Y      \n",
              "1 West End      491015.9 5459166\n",
              "2 West End      491059.5 5459122\n",
              "3 West End      491068.7 5459126\n",
              "4 West End      491073.1 5459109\n",
              "5 West End      491102.2 5459092\n",
              "6 West End      490227.2 5458210"
            ]
          },
          "metadata": {}
        }
      ],
      "id": "920e66dd-cdd1-476f-ad8e-871fd3369682"
    },
    {
      "cell_type": "markdown",
      "source": "Table 3. Table of raw crime data in the year 2020",
      "metadata": {},
      "id": "a85386dc-d6b8-4fdb-a100-7fefbbe50e0d"
    },
    {
      "cell_type": "markdown",
      "source": "We are only interested in theft crimes, so we calculate the proportion of all theft crimes:\n\n$n_{2019}$ and $n_{2020}$ signify the total number of crimes committed in 2019 and 2020.\n\n$t_{2019}$ and $t_{2020}$ signify the number of theft crimes committed in 2019 and 2020.\n\n$p_{2019}$ and $p_{2020}$ signify the proportion of theft crimes committed in 2019 and 2020.",
      "metadata": {},
      "id": "b9527ce3-f19a-43df-a288-182e0ace48dc"
    },
    {
      "cell_type": "code",
      "source": "# Aggregate all type of theft crime\ntheft_2019 <- crime_data_before_covid %>%\n    filter(TYPE %in% c(\"Other Theft\", \"Theft from Vehicle\", \"Theft of Vehicle\", \"Theft of Bicycle\")) \n\n# Summary table of crime rate\nsummary <- crime_data_before_covid %>%\n    summarize(n_2019 = nrow(crime_data_before_covid),\n              t_2019 = nrow(theft_2019), \n              p_2019 = t_2019 / n_2019)\n\nsummary",
      "metadata": {},
      "execution_count": 5,
      "outputs": [
        {
          "output_type": "display_data",
          "data": {
            "text/html": [
              "<table class=\"dataframe\">\n",
              "<caption>A tibble: 1 × 3</caption>\n",
              "<thead>\n",
              "\t<tr><th scope=col>n_2019</th><th scope=col>t_2019</th><th scope=col>p_2019</th></tr>\n",
              "\t<tr><th scope=col>&lt;int&gt;</th><th scope=col>&lt;int&gt;</th><th scope=col>&lt;dbl&gt;</th></tr>\n",
              "</thead>\n",
              "<tbody>\n",
              "\t<tr><td>48160</td><td>32931</td><td>0.6837832</td></tr>\n",
              "</tbody>\n",
              "</table>\n"
            ],
            "text/latex": [
              "A tibble: 1 × 3\n",
              "\\begin{tabular}{lll}\n",
              " n\\_2019 & t\\_2019 & p\\_2019\\\\\n",
              " <int> & <int> & <dbl>\\\\\n",
              "\\hline\n",
              "\t 48160 & 32931 & 0.6837832\\\\\n",
              "\\end{tabular}\n"
            ],
            "text/markdown": [
              "\n",
              "A tibble: 1 × 3\n",
              "\n",
              "| n_2019 &lt;int&gt; | t_2019 &lt;int&gt; | p_2019 &lt;dbl&gt; |\n",
              "|---|---|---|\n",
              "| 48160 | 32931 | 0.6837832 |\n",
              "\n"
            ],
            "text/plain": [
              "  n_2019 t_2019 p_2019   \n",
              "1 48160  32931  0.6837832"
            ]
          },
          "metadata": {}
        }
      ],
      "id": "e02492fb-ac82-43a1-a605-ff3582d23760"
    },
    {
      "cell_type": "markdown",
      "source": "Table 4. summary values from 2019\n\nThe same summarization can also be performed on the 2020 sample:",
      "metadata": {},
      "id": "1684e946-7f7e-4f6d-b671-3280b52abe0c"
    },
    {
      "cell_type": "code",
      "source": "# Aggregate all type of theft crime\ntheft_2020 <- crime_data_after_covid %>%\n    filter(TYPE %in% c(\"Other Theft\", \"Theft from Vehicle\", \"Theft of Vehicle\", \"Theft of Bicycle\")) \n\n# Summary table of crime rate\nsummary <- summary %>%\n    mutate(t_2020 = nrow(theft_2020),\n           n_2020 = nrow(crime_data_after_covid), \n           p_2020 = t_2020 / n_2020)\n\nsummary",
      "metadata": {},
      "execution_count": 6,
      "outputs": [
        {
          "output_type": "display_data",
          "data": {
            "text/html": [
              "<table class=\"dataframe\">\n",
              "<caption>A tibble: 1 × 6</caption>\n",
              "<thead>\n",
              "\t<tr><th scope=col>n_2019</th><th scope=col>t_2019</th><th scope=col>p_2019</th><th scope=col>t_2020</th><th scope=col>n_2020</th><th scope=col>p_2020</th></tr>\n",
              "\t<tr><th scope=col>&lt;int&gt;</th><th scope=col>&lt;int&gt;</th><th scope=col>&lt;dbl&gt;</th><th scope=col>&lt;int&gt;</th><th scope=col>&lt;int&gt;</th><th scope=col>&lt;dbl&gt;</th></tr>\n",
              "</thead>\n",
              "<tbody>\n",
              "\t<tr><td>48160</td><td>32931</td><td>0.6837832</td><td>21919</td><td>37520</td><td>0.5841951</td></tr>\n",
              "</tbody>\n",
              "</table>\n"
            ],
            "text/latex": [
              "A tibble: 1 × 6\n",
              "\\begin{tabular}{llllll}\n",
              " n\\_2019 & t\\_2019 & p\\_2019 & t\\_2020 & n\\_2020 & p\\_2020\\\\\n",
              " <int> & <int> & <dbl> & <int> & <int> & <dbl>\\\\\n",
              "\\hline\n",
              "\t 48160 & 32931 & 0.6837832 & 21919 & 37520 & 0.5841951\\\\\n",
              "\\end{tabular}\n"
            ],
            "text/markdown": [
              "\n",
              "A tibble: 1 × 6\n",
              "\n",
              "| n_2019 &lt;int&gt; | t_2019 &lt;int&gt; | p_2019 &lt;dbl&gt; | t_2020 &lt;int&gt; | n_2020 &lt;int&gt; | p_2020 &lt;dbl&gt; |\n",
              "|---|---|---|---|---|---|\n",
              "| 48160 | 32931 | 0.6837832 | 21919 | 37520 | 0.5841951 |\n",
              "\n"
            ],
            "text/plain": [
              "  n_2019 t_2019 p_2019    t_2020 n_2020 p_2020   \n",
              "1 48160  32931  0.6837832 21919  37520  0.5841951"
            ]
          },
          "metadata": {}
        }
      ],
      "id": "5ad6bb1d-6e17-4b26-b06b-a6efdc420d94"
    },
    {
      "cell_type": "markdown",
      "source": "Table 5. summary values from 2019 and 2020\n\nWe now plot the proportion of theft crimes from the two years.",
      "metadata": {},
      "id": "53294f9d-7363-41c9-b6a2-00f42a44c820"
    },
    {
      "cell_type": "code",
      "source": "options(repr.plot.width = 8, repr.plot.height = 8)\n\ntibble(year = c(\"2019\", \"2020\"), prop = c(summary$p_2019, summary$p_2020)) %>%\n    ggplot(aes(x = year, y = prop, fill = year)) +\n    geom_histogram(stat = \"identity\") +\n    ggtitle(\"Theft crime proportion in 2019 vs. 2020\") +\n    xlab(\"Year\") +\n    ylab(\"Proportion of theft crimes\") +\n    theme(text = element_text(size = 20))",
      "metadata": {},
      "execution_count": 7,
      "outputs": [
        {
          "name": "stderr",
          "output_type": "stream",
          "text": "Warning message in geom_histogram(stat = \"identity\"):\n\n\"\u001b[1m\u001b[22mIgnoring unknown parameters: `binwidth`, `bins`, and `pad`\"\n"
        },
        {
          "output_type": "display_data",
          "data": {
            "image/png": "[encoded data removed]",
            "text/plain": [
              "plot without title"
            ]
          },
          "metadata": {
            "image/png": {
              "height": 480,
              "width": 480
            }
          }
        }
      ],
      "id": "43635ac7-b1e9-4407-8369-4af009849914"
    },
    {
      "cell_type": "markdown",
      "source": "Figure 1. Bar plot of proportion of theft crimes in 2019 vs 2020\n\nMy proposed hypothesis test will utilize a significance level of 95%. My hypotheses are as follows:\n\n$H_0: p_{2020} - p_{2019} = 0$\n\n$H_a: p_{2020} - p_{2019} \\neq 0$",
      "metadata": {},
      "id": "dc7642ce-c05f-4cce-ade5-f27d3fe58bd0"
    },
    {
      "cell_type": "markdown",
      "source": "### CLT\n\nBecause the sample size is very large (in the tens of thousands), and we are calculating a difference in proportions, CLT can apply, since both $n\\hat{p}, n(1 - \\hat{p}) >> 10$ for both samples. This means that we can approximate the difference in proportions using an appropriate normal distribution.\n\nWe begin by calculating the difference in proportions, $p_{2020} - p_{2019}$.",
      "metadata": {},
      "id": "2ec34aea-2ff2-4639-b570-ff5090e68c3f"
    },
    {
      "cell_type": "code",
      "source": "summary <- summary %>%\n    mutate(diff_in_props = p_2020 - p_2019)\n\nsummary",
      "metadata": {},
      "execution_count": 8,
      "outputs": [
        {
          "output_type": "display_data",
          "data": {
            "text/html": [
              "<table class=\"dataframe\">\n",
              "<caption>A tibble: 1 × 7</caption>\n",
              "<thead>\n",
              "\t<tr><th scope=col>n_2019</th><th scope=col>t_2019</th><th scope=col>p_2019</th><th scope=col>t_2020</th><th scope=col>n_2020</th><th scope=col>p_2020</th><th scope=col>diff_in_props</th></tr>\n",
              "\t<tr><th scope=col>&lt;int&gt;</th><th scope=col>&lt;int&gt;</th><th scope=col>&lt;dbl&gt;</th><th scope=col>&lt;int&gt;</th><th scope=col>&lt;int&gt;</th><th scope=col>&lt;dbl&gt;</th><th scope=col>&lt;dbl&gt;</th></tr>\n",
              "</thead>\n",
              "<tbody>\n",
              "\t<tr><td>48160</td><td>32931</td><td>0.6837832</td><td>21919</td><td>37520</td><td>0.5841951</td><td>-0.09958813</td></tr>\n",
              "</tbody>\n",
              "</table>\n"
            ],
            "text/latex": [
              "A tibble: 1 × 7\n",
              "\\begin{tabular}{lllllll}\n",
              " n\\_2019 & t\\_2019 & p\\_2019 & t\\_2020 & n\\_2020 & p\\_2020 & diff\\_in\\_props\\\\\n",
              " <int> & <int> & <dbl> & <int> & <int> & <dbl> & <dbl>\\\\\n",
              "\\hline\n",
              "\t 48160 & 32931 & 0.6837832 & 21919 & 37520 & 0.5841951 & -0.09958813\\\\\n",
              "\\end{tabular}\n"
            ],
            "text/markdown": [
              "\n",
              "A tibble: 1 × 7\n",
              "\n",
              "| n_2019 &lt;int&gt; | t_2019 &lt;int&gt; | p_2019 &lt;dbl&gt; | t_2020 &lt;int&gt; | n_2020 &lt;int&gt; | p_2020 &lt;dbl&gt; | diff_in_props &lt;dbl&gt; |\n",
              "|---|---|---|---|---|---|---|\n",
              "| 48160 | 32931 | 0.6837832 | 21919 | 37520 | 0.5841951 | -0.09958813 |\n",
              "\n"
            ],
            "text/plain": [
              "  n_2019 t_2019 p_2019    t_2020 n_2020 p_2020    diff_in_props\n",
              "1 48160  32931  0.6837832 21919  37520  0.5841951 -0.09958813  "
            ]
          },
          "metadata": {}
        }
      ],
      "id": "41e8eb3d-a56d-4346-976b-5da8d7a84038"
    },
    {
      "cell_type": "markdown",
      "source": "Table 6. summary values of 2019 and 2020, now with difference in proportions\n\nWe then calculate the standard error, defined as $\\sqrt{\\dfrac{p_{2019} \\cdot (1 - p_{2019})}{n_{2019}} + \\dfrac{p_{2020} \\cdot (1 - p_{2020})}{n_{2020}}}$.",
      "metadata": {},
      "id": "e1bd710b-2275-4d23-951d-b8c79266fb73"
    },
    {
      "cell_type": "code",
      "source": "summary <- summary %>%\n    mutate(diff_std_error = sqrt(p_2019 * (1 - p_2019) / n_2019 + p_2020 * (1 - p_2020) / n_2020))\n\nsummary",
      "metadata": {},
      "execution_count": 9,
      "outputs": [
        {
          "output_type": "display_data",
          "data": {
            "text/html": [
              "<table class=\"dataframe\">\n",
              "<caption>A tibble: 1 × 8</caption>\n",
              "<thead>\n",
              "\t<tr><th scope=col>n_2019</th><th scope=col>t_2019</th><th scope=col>p_2019</th><th scope=col>t_2020</th><th scope=col>n_2020</th><th scope=col>p_2020</th><th scope=col>diff_in_props</th><th scope=col>diff_std_error</th></tr>\n",
              "\t<tr><th scope=col>&lt;int&gt;</th><th scope=col>&lt;int&gt;</th><th scope=col>&lt;dbl&gt;</th><th scope=col>&lt;int&gt;</th><th scope=col>&lt;int&gt;</th><th scope=col>&lt;dbl&gt;</th><th scope=col>&lt;dbl&gt;</th><th scope=col>&lt;dbl&gt;</th></tr>\n",
              "</thead>\n",
              "<tbody>\n",
              "\t<tr><td>48160</td><td>32931</td><td>0.6837832</td><td>21919</td><td>37520</td><td>0.5841951</td><td>-0.09958813</td><td>0.003311174</td></tr>\n",
              "</tbody>\n",
              "</table>\n"
            ],
            "text/latex": [
              "A tibble: 1 × 8\n",
              "\\begin{tabular}{llllllll}\n",
              " n\\_2019 & t\\_2019 & p\\_2019 & t\\_2020 & n\\_2020 & p\\_2020 & diff\\_in\\_props & diff\\_std\\_error\\\\\n",
              " <int> & <int> & <dbl> & <int> & <int> & <dbl> & <dbl> & <dbl>\\\\\n",
              "\\hline\n",
              "\t 48160 & 32931 & 0.6837832 & 21919 & 37520 & 0.5841951 & -0.09958813 & 0.003311174\\\\\n",
              "\\end{tabular}\n"
            ],
            "text/markdown": [
              "\n",
              "A tibble: 1 × 8\n",
              "\n",
              "| n_2019 &lt;int&gt; | t_2019 &lt;int&gt; | p_2019 &lt;dbl&gt; | t_2020 &lt;int&gt; | n_2020 &lt;int&gt; | p_2020 &lt;dbl&gt; | diff_in_props &lt;dbl&gt; | diff_std_error &lt;dbl&gt; |\n",
              "|---|---|---|---|---|---|---|---|\n",
              "| 48160 | 32931 | 0.6837832 | 21919 | 37520 | 0.5841951 | -0.09958813 | 0.003311174 |\n",
              "\n"
            ],
            "text/plain": [
              "  n_2019 t_2019 p_2019    t_2020 n_2020 p_2020    diff_in_props diff_std_error\n",
              "1 48160  32931  0.6837832 21919  37520  0.5841951 -0.09958813   0.003311174   "
            ]
          },
          "metadata": {}
        }
      ],
      "id": "12ff68ce-f4b9-4c19-a256-b5818cf2cfc0"
    },
    {
      "cell_type": "markdown",
      "source": "Table 6. summary values of 2019 and 2020, now with standard error of difference in proportions\n\nWe can then obtain the 95% confidence interval by using `qnorm`.",
      "metadata": {},
      "id": "4e34f874-0dcd-4afe-a6e5-53f8ac1da032"
    },
    {
      "cell_type": "code",
      "source": "clt_ci <- tibble(\n    lower_ci_clt = qnorm(0.025, summary$diff_in_props, summary$diff_std_error),\n    upper_ci_clt = qnorm(0.975, summary$diff_in_props, summary$diff_std_error)\n)\n\nclt_ci",
      "metadata": {},
      "execution_count": 10,
      "outputs": [
        {
          "output_type": "display_data",
          "data": {
            "text/html": [
              "<table class=\"dataframe\">\n",
              "<caption>A tibble: 1 × 2</caption>\n",
              "<thead>\n",
              "\t<tr><th scope=col>lower_ci_clt</th><th scope=col>upper_ci_clt</th></tr>\n",
              "\t<tr><th scope=col>&lt;dbl&gt;</th><th scope=col>&lt;dbl&gt;</th></tr>\n",
              "</thead>\n",
              "<tbody>\n",
              "\t<tr><td>-0.1060779</td><td>-0.09309834</td></tr>\n",
              "</tbody>\n",
              "</table>\n"
            ],
            "text/latex": [
              "A tibble: 1 × 2\n",
              "\\begin{tabular}{ll}\n",
              " lower\\_ci\\_clt & upper\\_ci\\_clt\\\\\n",
              " <dbl> & <dbl>\\\\\n",
              "\\hline\n",
              "\t -0.1060779 & -0.09309834\\\\\n",
              "\\end{tabular}\n"
            ],
            "text/markdown": [
              "\n",
              "A tibble: 1 × 2\n",
              "\n",
              "| lower_ci_clt &lt;dbl&gt; | upper_ci_clt &lt;dbl&gt; |\n",
              "|---|---|\n",
              "| -0.1060779 | -0.09309834 |\n",
              "\n"
            ],
            "text/plain": [
              "  lower_ci_clt upper_ci_clt\n",
              "1 -0.1060779   -0.09309834 "
            ]
          },
          "metadata": {}
        }
      ],
      "id": "0a941568-7417-4717-8e0c-06218971c5db"
    },
    {
      "cell_type": "markdown",
      "source": "Table 7. Confidence interval from CLT\n\nWe can interpret the above interval as:\n\nIf we repeat this analysis many times, 95% of the 95% CIs produced by the analyses would contain the true difference in proportions of theft crimes between 2020 and 2019.",
      "metadata": {},
      "id": "f3691b9a-892c-42dd-818b-f3ac2753e5a2"
    },
    {
      "cell_type": "markdown",
      "source": "We can also obtain a p value:",
      "metadata": {},
      "id": "b1e5c3da-5792-473b-b679-ea2e2fd8fed4"
    },
    {
      "cell_type": "code",
      "source": "summary <- summary %>%\n    mutate(p_value_ci = 2 * pnorm(diff_in_props / diff_std_error))\nsummary",
      "metadata": {},
      "execution_count": 11,
      "outputs": [
        {
          "output_type": "display_data",
          "data": {
            "text/html": [
              "<table class=\"dataframe\">\n",
              "<caption>A tibble: 1 × 9</caption>\n",
              "<thead>\n",
              "\t<tr><th scope=col>n_2019</th><th scope=col>t_2019</th><th scope=col>p_2019</th><th scope=col>t_2020</th><th scope=col>n_2020</th><th scope=col>p_2020</th><th scope=col>diff_in_props</th><th scope=col>diff_std_error</th><th scope=col>p_value_ci</th></tr>\n",
              "\t<tr><th scope=col>&lt;int&gt;</th><th scope=col>&lt;int&gt;</th><th scope=col>&lt;dbl&gt;</th><th scope=col>&lt;int&gt;</th><th scope=col>&lt;int&gt;</th><th scope=col>&lt;dbl&gt;</th><th scope=col>&lt;dbl&gt;</th><th scope=col>&lt;dbl&gt;</th><th scope=col>&lt;dbl&gt;</th></tr>\n",
              "</thead>\n",
              "<tbody>\n",
              "\t<tr><td>48160</td><td>32931</td><td>0.6837832</td><td>21919</td><td>37520</td><td>0.5841951</td><td>-0.09958813</td><td>0.003311174</td><td>9.87023e-199</td></tr>\n",
              "</tbody>\n",
              "</table>\n"
            ],
            "text/latex": [
              "A tibble: 1 × 9\n",
              "\\begin{tabular}{lllllllll}\n",
              " n\\_2019 & t\\_2019 & p\\_2019 & t\\_2020 & n\\_2020 & p\\_2020 & diff\\_in\\_props & diff\\_std\\_error & p\\_value\\_ci\\\\\n",
              " <int> & <int> & <dbl> & <int> & <int> & <dbl> & <dbl> & <dbl> & <dbl>\\\\\n",
              "\\hline\n",
              "\t 48160 & 32931 & 0.6837832 & 21919 & 37520 & 0.5841951 & -0.09958813 & 0.003311174 & 9.87023e-199\\\\\n",
              "\\end{tabular}\n"
            ],
            "text/markdown": [
              "\n",
              "A tibble: 1 × 9\n",
              "\n",
              "| n_2019 &lt;int&gt; | t_2019 &lt;int&gt; | p_2019 &lt;dbl&gt; | t_2020 &lt;int&gt; | n_2020 &lt;int&gt; | p_2020 &lt;dbl&gt; | diff_in_props &lt;dbl&gt; | diff_std_error &lt;dbl&gt; | p_value_ci &lt;dbl&gt; |\n",
              "|---|---|---|---|---|---|---|---|---|\n",
              "| 48160 | 32931 | 0.6837832 | 21919 | 37520 | 0.5841951 | -0.09958813 | 0.003311174 | 9.87023e-199 |\n",
              "\n"
            ],
            "text/plain": [
              "  n_2019 t_2019 p_2019    t_2020 n_2020 p_2020    diff_in_props diff_std_error\n",
              "1 48160  32931  0.6837832 21919  37520  0.5841951 -0.09958813   0.003311174   \n",
              "  p_value_ci  \n",
              "1 9.87023e-199"
            ]
          },
          "metadata": {}
        }
      ],
      "id": "fc0d7472-956a-44f4-b4ca-ddf10fa43144"
    },
    {
      "cell_type": "markdown",
      "source": "Table 8. p-value from CLT\n\nAs we can see, the p-value is extremely small, so **there is evidence to reject the null hypothesis here**.\n\nWe can also use `prop.test` to double check the work:",
      "metadata": {},
      "id": "03d2a6a0-5694-445d-87ea-cf2d438fee50"
    },
    {
      "cell_type": "code",
      "source": "prop_test <- tidy(\n    prop.test(\n        x = c(summary$t_2020, summary$t_2019), # an array with the number of successes in each sample\n        n = c(summary$n_2020, summary$n_2019), # an array with the size of each sample\n        correct = FALSE\n    )\n)\n\nprop_test",
      "metadata": {},
      "execution_count": 12,
      "outputs": [
        {
          "output_type": "display_data",
          "data": {
            "text/html": [
              "<table class=\"dataframe\">\n",
              "<caption>A tibble: 1 × 9</caption>\n",
              "<thead>\n",
              "\t<tr><th scope=col>estimate1</th><th scope=col>estimate2</th><th scope=col>statistic</th><th scope=col>p.value</th><th scope=col>parameter</th><th scope=col>conf.low</th><th scope=col>conf.high</th><th scope=col>method</th><th scope=col>alternative</th></tr>\n",
              "\t<tr><th scope=col>&lt;dbl&gt;</th><th scope=col>&lt;dbl&gt;</th><th scope=col>&lt;dbl&gt;</th><th scope=col>&lt;dbl&gt;</th><th scope=col>&lt;dbl&gt;</th><th scope=col>&lt;dbl&gt;</th><th scope=col>&lt;dbl&gt;</th><th scope=col>&lt;chr&gt;</th><th scope=col>&lt;chr&gt;</th></tr>\n",
              "</thead>\n",
              "<tbody>\n",
              "\t<tr><td>0.5841951</td><td>0.6837832</td><td>908.0165</td><td>1.774765e-199</td><td>1</td><td>-0.1060779</td><td>-0.09309834</td><td>2-sample test for equality of proportions without continuity correction</td><td>two.sided</td></tr>\n",
              "</tbody>\n",
              "</table>\n"
            ],
            "text/latex": [
              "A tibble: 1 × 9\n",
              "\\begin{tabular}{lllllllll}\n",
              " estimate1 & estimate2 & statistic & p.value & parameter & conf.low & conf.high & method & alternative\\\\\n",
              " <dbl> & <dbl> & <dbl> & <dbl> & <dbl> & <dbl> & <dbl> & <chr> & <chr>\\\\\n",
              "\\hline\n",
              "\t 0.5841951 & 0.6837832 & 908.0165 & 1.774765e-199 & 1 & -0.1060779 & -0.09309834 & 2-sample test for equality of proportions without continuity correction & two.sided\\\\\n",
              "\\end{tabular}\n"
            ],
            "text/markdown": [
              "\n",
              "A tibble: 1 × 9\n",
              "\n",
              "| estimate1 &lt;dbl&gt; | estimate2 &lt;dbl&gt; | statistic &lt;dbl&gt; | p.value &lt;dbl&gt; | parameter &lt;dbl&gt; | conf.low &lt;dbl&gt; | conf.high &lt;dbl&gt; | method &lt;chr&gt; | alternative &lt;chr&gt; |\n",
              "|---|---|---|---|---|---|---|---|---|\n",
              "| 0.5841951 | 0.6837832 | 908.0165 | 1.774765e-199 | 1 | -0.1060779 | -0.09309834 | 2-sample test for equality of proportions without continuity correction | two.sided |\n",
              "\n"
            ],
            "text/plain": [
              "  estimate1 estimate2 statistic p.value       parameter conf.low   conf.high  \n",
              "1 0.5841951 0.6837832 908.0165  1.774765e-199 1         -0.1060779 -0.09309834\n",
              "  method                                                                 \n",
              "1 2-sample test for equality of proportions without continuity correction\n",
              "  alternative\n",
              "1 two.sided  "
            ]
          },
          "metadata": {}
        }
      ],
      "id": "5b4bb4c7-3b1b-4260-a5a3-17ad16367267"
    },
    {
      "cell_type": "markdown",
      "source": "Table 9. results from `prop.test`\n\nWe can see that the p-value is similarly very small, and the confidence interval matches.\n\nWe can also plot what the null model and test statistic looks like (code from worksheet 8)",
      "metadata": {},
      "id": "b5fc4d82-5871-488b-afb0-545566bb696b"
    },
    {
      "cell_type": "code",
      "source": "options(repr.plot.width = 16, repr.plot.height = 8)\n\n# code from worksheet 8\ntibble(z = seq(-0.10, 0.05, 0.00001), density = dnorm(z, mean = 0, sd = summary$diff_std_error)) %>% \n    ggplot() + geom_line(aes(z, density)) + # plot the density curve\n    geom_segment(aes(x = summary$diff_in_props, \n                     y = 0, \n                     xend = summary$diff_in_props,\n                     yend = 125),\n                 colour=\"blue\", linetype = 'dashed') + # plot dashed line corresponding to the test statistic\n    geom_ribbon(. %>% filter(z > qnorm(0.975, mean = 0, sd = summary$diff_std_error)),\n                mapping = aes(x = z, ymax = density, ymin = 0), alpha = 0.5, fill = \"red\") + # plot the upper tail reject hypothesis region\n    geom_ribbon(. %>% filter(z < qnorm(0.025, mean = 0, sd = summary$diff_std_error)),\n                mapping = aes(x = z, ymax = density, ymin = 0), alpha = 0.5, fill = \"red\") + # plot the lower tail reject hypothesis region\n    theme(text = element_text(size=22)) + \n    xlab(\"test statistic\") +\n    ggtitle(\"Plot of sampling distribution of difference in proportions under null model\")",
      "metadata": {},
      "execution_count": 13,
      "outputs": [
        {
          "output_type": "display_data",
          "data": {
            "image/png": "[encoded data removed]",
            "text/plain": [
              "plot without title"
            ]
          },
          "metadata": {
            "image/png": {
              "height": 480,
              "width": 960
            }
          }
        }
      ],
      "id": "18e6c268-ceed-4b2e-afc0-66833a903a94"
    },
    {
      "cell_type": "markdown",
      "source": "Figure 2. Plot of the test statistic in sampling distribution of difference in proportions assuming the null model.\n\nWe can clearly see that the test statistic is *far* into the \"reject null hypothesis\" region.",
      "metadata": {},
      "id": "eecd9a24-f201-46b4-889b-3cffaeffd72f"
    },
    {
      "cell_type": "markdown",
      "source": "### Bootstrapping\n\nWe can also do some bootstrapping, though this will take a little bit of setup.\n\nWe first need to mutate the data so that \"success\" is defined as the crime being a theft crime.\n\nBootstrap CI code is adapted from tutorial 7.",
      "metadata": {},
      "id": "6b367d8b-d10f-452f-948b-bb518f52cc0b"
    },
    {
      "cell_type": "code",
      "source": "bootstrap_data <- crime_data %>%\n    filter(YEAR %in% c(2019, 2020)) %>% # get relevant years\n    mutate(is_theft_crime = TYPE %in% c(\"Other Theft\", \"Theft from Vehicle\", \"Theft of Vehicle\", \"Theft of Bicycle\")) %>%\n    mutate(is_theft_crime = factor(is_theft_crime), YEAR = factor(YEAR)) %>%\n    select(YEAR, is_theft_crime)\n\nset.seed(1234)\n\nbootstrap <-\n    bootstrap_data %>%\n    specify(formula = is_theft_crime ~ YEAR, success = \"TRUE\") %>%\n    generate(reps = 1000, type = \"bootstrap\") %>%\n    calculate(stat = \"diff in props\", order = c(\"2020\", \"2019\"))\n\nbtsp_ci <- bootstrap %>%\n    get_ci()\n\nbtsp_ci",
      "metadata": {},
      "execution_count": 14,
      "outputs": [
        {
          "output_type": "display_data",
          "data": {
            "text/html": [
              "<table class=\"dataframe\">\n",
              "<caption>A tibble: 1 × 2</caption>\n",
              "<thead>\n",
              "\t<tr><th scope=col>lower_ci</th><th scope=col>upper_ci</th></tr>\n",
              "\t<tr><th scope=col>&lt;dbl&gt;</th><th scope=col>&lt;dbl&gt;</th></tr>\n",
              "</thead>\n",
              "<tbody>\n",
              "\t<tr><td>-0.1061417</td><td>-0.0927876</td></tr>\n",
              "</tbody>\n",
              "</table>\n"
            ],
            "text/latex": [
              "A tibble: 1 × 2\n",
              "\\begin{tabular}{ll}\n",
              " lower\\_ci & upper\\_ci\\\\\n",
              " <dbl> & <dbl>\\\\\n",
              "\\hline\n",
              "\t -0.1061417 & -0.0927876\\\\\n",
              "\\end{tabular}\n"
            ],
            "text/markdown": [
              "\n",
              "A tibble: 1 × 2\n",
              "\n",
              "| lower_ci &lt;dbl&gt; | upper_ci &lt;dbl&gt; |\n",
              "|---|---|\n",
              "| -0.1061417 | -0.0927876 |\n",
              "\n"
            ],
            "text/plain": [
              "  lower_ci   upper_ci  \n",
              "1 -0.1061417 -0.0927876"
            ]
          },
          "metadata": {}
        }
      ],
      "id": "a43bf6ed-877f-4e07-8ff9-b1c643439980"
    },
    {
      "cell_type": "markdown",
      "source": "Table 10. Confidence interval from bootstrapping",
      "metadata": {},
      "id": "2a0ac0ff-3623-4e2e-b622-e1f537ce5f73"
    },
    {
      "cell_type": "markdown",
      "source": "We compare the above against the CI we got from CLT:",
      "metadata": {},
      "id": "e43bb075-d6ee-413e-903d-1a8b36c761a0"
    },
    {
      "cell_type": "code",
      "source": "clt_ci",
      "metadata": {},
      "execution_count": 15,
      "outputs": [
        {
          "output_type": "display_data",
          "data": {
            "text/html": [
              "<table class=\"dataframe\">\n",
              "<caption>A tibble: 1 × 2</caption>\n",
              "<thead>\n",
              "\t<tr><th scope=col>lower_ci_clt</th><th scope=col>upper_ci_clt</th></tr>\n",
              "\t<tr><th scope=col>&lt;dbl&gt;</th><th scope=col>&lt;dbl&gt;</th></tr>\n",
              "</thead>\n",
              "<tbody>\n",
              "\t<tr><td>-0.1060779</td><td>-0.09309834</td></tr>\n",
              "</tbody>\n",
              "</table>\n"
            ],
            "text/latex": [
              "A tibble: 1 × 2\n",
              "\\begin{tabular}{ll}\n",
              " lower\\_ci\\_clt & upper\\_ci\\_clt\\\\\n",
              " <dbl> & <dbl>\\\\\n",
              "\\hline\n",
              "\t -0.1060779 & -0.09309834\\\\\n",
              "\\end{tabular}\n"
            ],
            "text/markdown": [
              "\n",
              "A tibble: 1 × 2\n",
              "\n",
              "| lower_ci_clt &lt;dbl&gt; | upper_ci_clt &lt;dbl&gt; |\n",
              "|---|---|\n",
              "| -0.1060779 | -0.09309834 |\n",
              "\n"
            ],
            "text/plain": [
              "  lower_ci_clt upper_ci_clt\n",
              "1 -0.1060779   -0.09309834 "
            ]
          },
          "metadata": {}
        }
      ],
      "id": "4acc6506-6b44-45a9-9960-c4f10d746566"
    },
    {
      "cell_type": "markdown",
      "source": "Table 11. Confidence interval from CLT, again\n\nWe can see that the intervals are very similar. It seems that the bootstrap CI is shifted slightly closer to 0 compared to the CLT CI.\n\nWe could also try the shuffles/permutations resampling method to obtain a p-value:",
      "metadata": {
        "tags": []
      },
      "id": "1f3b62b9-9f77-4738-9a1e-b8906fc1a63e"
    },
    {
      "cell_type": "code",
      "source": "set.seed(4321)\n\nobs_diff_prop <- bootstrap_data %>%\n    specify(is_theft_crime ~ YEAR, success = \"TRUE\") %>%\n    calculate(stat = \"diff in props\", order = c(\"2020\", \"2019\"))\n\nsummary <- summary %>%\n    mutate(p_value_permute =\n           specify(bootstrap_data, formula = is_theft_crime ~ YEAR, success = \"TRUE\") %>%\n           hypothesize(null = \"independence\") %>%\n           generate(reps = 1000, type = \"permute\") %>%\n           calculate(stat = \"diff in props\", order = c(\"2020\", \"2019\")) %>%\n           get_p_value(obs_stat = obs_diff_prop, direction = \"both\") %>%\n           pull())\n\nsummary",
      "metadata": {},
      "execution_count": 16,
      "outputs": [
        {
          "name": "stderr",
          "output_type": "stream",
          "text": "Warning message:\n\n\"\u001b[1m\u001b[22mThere was 1 warning in `mutate()`.\n\n\u001b[1m\u001b[22m\u001b[36mℹ\u001b[39m In argument: `p_value_permute = ... %>% pull()`.\n\nCaused by warning:\n\n\u001b[33m!\u001b[39m Please be cautious in reporting a p-value of 0. This result is an approximation based on the number of `reps` chosen in the `generate()` step. See `?get_p_value()` for more information.\"\n"
        },
        {
          "output_type": "display_data",
          "data": {
            "text/html": [
              "<table class=\"dataframe\">\n",
              "<caption>A tibble: 1 × 10</caption>\n",
              "<thead>\n",
              "\t<tr><th scope=col>n_2019</th><th scope=col>t_2019</th><th scope=col>p_2019</th><th scope=col>t_2020</th><th scope=col>n_2020</th><th scope=col>p_2020</th><th scope=col>diff_in_props</th><th scope=col>diff_std_error</th><th scope=col>p_value_ci</th><th scope=col>p_value_permute</th></tr>\n",
              "\t<tr><th scope=col>&lt;int&gt;</th><th scope=col>&lt;int&gt;</th><th scope=col>&lt;dbl&gt;</th><th scope=col>&lt;int&gt;</th><th scope=col>&lt;int&gt;</th><th scope=col>&lt;dbl&gt;</th><th scope=col>&lt;dbl&gt;</th><th scope=col>&lt;dbl&gt;</th><th scope=col>&lt;dbl&gt;</th><th scope=col>&lt;dbl&gt;</th></tr>\n",
              "</thead>\n",
              "<tbody>\n",
              "\t<tr><td>48160</td><td>32931</td><td>0.6837832</td><td>21919</td><td>37520</td><td>0.5841951</td><td>-0.09958813</td><td>0.003311174</td><td>9.87023e-199</td><td>0</td></tr>\n",
              "</tbody>\n",
              "</table>\n"
            ],
            "text/latex": [
              "A tibble: 1 × 10\n",
              "\\begin{tabular}{llllllllll}\n",
              " n\\_2019 & t\\_2019 & p\\_2019 & t\\_2020 & n\\_2020 & p\\_2020 & diff\\_in\\_props & diff\\_std\\_error & p\\_value\\_ci & p\\_value\\_permute\\\\\n",
              " <int> & <int> & <dbl> & <int> & <int> & <dbl> & <dbl> & <dbl> & <dbl> & <dbl>\\\\\n",
              "\\hline\n",
              "\t 48160 & 32931 & 0.6837832 & 21919 & 37520 & 0.5841951 & -0.09958813 & 0.003311174 & 9.87023e-199 & 0\\\\\n",
              "\\end{tabular}\n"
            ],
            "text/markdown": [
              "\n",
              "A tibble: 1 × 10\n",
              "\n",
              "| n_2019 &lt;int&gt; | t_2019 &lt;int&gt; | p_2019 &lt;dbl&gt; | t_2020 &lt;int&gt; | n_2020 &lt;int&gt; | p_2020 &lt;dbl&gt; | diff_in_props &lt;dbl&gt; | diff_std_error &lt;dbl&gt; | p_value_ci &lt;dbl&gt; | p_value_permute &lt;dbl&gt; |\n",
              "|---|---|---|---|---|---|---|---|---|---|\n",
              "| 48160 | 32931 | 0.6837832 | 21919 | 37520 | 0.5841951 | -0.09958813 | 0.003311174 | 9.87023e-199 | 0 |\n",
              "\n"
            ],
            "text/plain": [
              "  n_2019 t_2019 p_2019    t_2020 n_2020 p_2020    diff_in_props diff_std_error\n",
              "1 48160  32931  0.6837832 21919  37520  0.5841951 -0.09958813   0.003311174   \n",
              "  p_value_ci   p_value_permute\n",
              "1 9.87023e-199 0              "
            ]
          },
          "metadata": {}
        }
      ],
      "id": "bc7b6669-92f2-4b33-89b0-e7a370e04cf4"
    },
    {
      "cell_type": "markdown",
      "source": "Table 12. p-value for permutations method\n\nWe can see that the p-value here is 0, because we can see from the theoretical (CLT) method that the p-value is actually extremely tiny, so we would need a massive number of reps to get even one result on the other side of 0. This indicates that the bootstrap method may not be very reliable, because its result says that it is *impossible* for the null hypothesis to be true, which is not something we can prove.",
      "metadata": {},
      "id": "3a0e4f77-05a3-4175-b675-94e8aaf8bc56"
    },
    {
      "cell_type": "markdown",
      "source": "## Discussion\n\nThe findings of this study indicate that the proportion of theft crimes in Vancouver changed significantly during the COVID-19 lockdown in 2020, compared to the previous year. This supports my hypothesis that the economic downturn caused by COVID-19 contributed to a change in theft crimes.\n\nThese findings have significant implications because they suggest that the COVID-19 pandemic had a direct impact on Vancouver's crime rate. This has significant implications for law enforcement and policy makers who must consider the impact of economic downturns and social isolation measures on crime rates.\n\nIn terms of future research, this study could lead to more research into the specific types of theft crimes most affected by COVID, as well as other types of crime that may have been impacted by the pandemic. It may also be worthwhile to investigate whether certain demographics or neighborhoods were disproportionately affected by the change in theft crimes.\n\nFurthermore, it would be interesting to look into whether there is a direct link between the change in crime and COVID, and whether crime rates will return to pre-pandemic levels once the pandemic is over. This could include looking at crime rates in other cities and countries to see if similar trends exist, as well as looking into the potential long-term effects of the pandemic on crime rates.\n\nOverall, the study's findings emphasize the importance of understanding the complex relationship between social and economic factors and crime rates, as well as the need for additional research to fully understand the impact of the COVID-19 pandemic on crime rates in Vancouver and elsewhere.",
      "metadata": {},
      "id": "5e0645ac-325c-413b-9942-c0222ee9e96f"
    },
    {
      "cell_type": "markdown",
      "source": "## References\n\nAbrams, D. S. (2021). Covid and crime: An early empirical look. Journal of Public Economics, 194. https://doi.org/10.1016/j.jpubeco.2020.104344\n\nData from https://geodash.vpd.ca/opendata/.\n\nGeneral, P. S. and S. (2020, March 18). Province declares state of emergency to support COVID-19 response. Retrieved April 11, 2023, from https://news.gov.bc.ca/releases/2020PSSG0017-000511 \n\nSong, L., & Zhou, Y. (2020). COVID‐19 pandemic and its impact on the global economy: What does it take to turn crisis into opportunity? China & World Economy, doi:https://doi.org/10.1111/cwe.12349\n\nThomas, D., &amp; Nair, A. (2020, January 25). Canada identifies first case of coronavirus. Reuters. Retrieved April 11, 2023, from https://www.reuters.com/article/us-china-health-canada-idUSKBN1ZO0T9 \n\n",
      "metadata": {},
      "id": "c954ac41-5ddc-4379-9b9e-ad329ac7c28b"
    }
  ]
}